{
 "cells": [
  {
   "cell_type": "code",
   "execution_count": 1,
   "id": "07a2c4a7",
   "metadata": {},
   "outputs": [],
   "source": [
    "import cv2\n",
    "import sys"
   ]
  },
  {
   "cell_type": "code",
   "execution_count": 2,
   "id": "10c50466",
   "metadata": {},
   "outputs": [],
   "source": [
    "# Get user supplied values\n",
    "imagePath = 'image.jpg'\n",
    "cascPath = \"haarcascade_frontalface_default.xml\""
   ]
  },
  {
   "cell_type": "code",
   "execution_count": 3,
   "id": "742d9c43",
   "metadata": {},
   "outputs": [],
   "source": [
    "# Create the haar cascade\n",
    "faceCascade = cv2.CascadeClassifier(cascPath)"
   ]
  },
  {
   "cell_type": "code",
   "execution_count": 4,
   "id": "2dd09df9",
   "metadata": {},
   "outputs": [],
   "source": [
    "# Read the image\n",
    "image = cv2.imread(imagePath)\n",
    "gray = cv2.cvtColor(image, cv2.COLOR_BGR2GRAY)"
   ]
  },
  {
   "cell_type": "code",
   "execution_count": 5,
   "id": "58d68970",
   "metadata": {},
   "outputs": [],
   "source": [
    "# Detect faces in the image\n",
    "faces = faceCascade.detectMultiScale(\n",
    "    gray,\n",
    "    scaleFactor=1.1,\n",
    "    minNeighbors=1,\n",
    "    minSize=(1, 1),\n",
    "    flags = cv2.CASCADE_SCALE_IMAGE\n",
    ")\n"
   ]
  },
  {
   "cell_type": "code",
   "execution_count": 6,
   "id": "8ef1076e",
   "metadata": {},
   "outputs": [
    {
     "name": "stdout",
     "output_type": "stream",
     "text": [
      "Found 5 faces!\n"
     ]
    }
   ],
   "source": [
    "print(\"Found {0} faces!\".format(len(faces)))"
   ]
  },
  {
   "cell_type": "code",
   "execution_count": null,
   "id": "66228602",
   "metadata": {},
   "outputs": [],
   "source": [
    "# Draw a rectangle around the faces\n",
    "for (x, y, w, h) in faces:\n",
    "    cv2.rectangle(image, (x, y), (x+w, y+h), (0, 255, 0), 2)\n",
    "\n",
    "outpath = 'detect_'+imagePath\n",
    "cv2.imwrite(outpath, image)\n",
    "cv2.imshow(\"Faces found\", image)\n",
    "cv2.waitKey(0)\n",
    "cv2.destroyAllWindows()"
   ]
  },
  {
   "cell_type": "code",
   "execution_count": 7,
   "id": "cc587d18",
   "metadata": {},
   "outputs": [
    {
     "data": {
      "text/plain": [
       "array([[142,  59,  24,  24],\n",
       "       [624,  51,  26,  26],\n",
       "       [424,  75,  26,  26],\n",
       "       [650,  76,  26,  26],\n",
       "       [197,  76,  24,  24],\n",
       "       [473,  80,  24,  24],\n",
       "       [299,  80,  26,  26],\n",
       "       [363,  90,  26,  26],\n",
       "       [234,  92,  26,  26],\n",
       "       [ 62, 126,  26,  26],\n",
       "       [433, 119,  25,  25],\n",
       "       [201, 127,  25,  25],\n",
       "       [278, 124,  29,  29],\n",
       "       [364, 120,  26,  26],\n",
       "       [502, 124,  26,  26],\n",
       "       [576, 125,  31,  31],\n",
       "       [410, 146,  27,  27],\n",
       "       [536, 143,  30,  30],\n",
       "       [617, 146,  29,  29],\n",
       "       [ 86, 150,  27,  27],\n",
       "       [237, 150,  27,  27],\n",
       "       [160, 153,  29,  29],\n",
       "       [644, 128,  29,  29],\n",
       "       [317, 150,  33,  33],\n",
       "       [674, 157,  26,  26],\n",
       "       [130, 135,  24,  24],\n",
       "       [484, 144,  29,  29]], dtype=int32)"
      ]
     },
     "execution_count": 7,
     "metadata": {},
     "output_type": "execute_result"
    }
   ],
   "source": [
    "faces13"
   ]
  },
  {
   "cell_type": "code",
   "execution_count": null,
   "id": "f866b054",
   "metadata": {},
   "outputs": [],
   "source": [
    "s"
   ]
  },
  {
   "cell_type": "code",
   "execution_count": null,
   "id": "dfaf436e",
   "metadata": {},
   "outputs": [],
   "source": []
  }
 ],
 "metadata": {
  "kernelspec": {
   "display_name": "Python 3",
   "language": "python",
   "name": "python3"
  },
  "language_info": {
   "codemirror_mode": {
    "name": "ipython",
    "version": 3
   },
   "file_extension": ".py",
   "mimetype": "text/x-python",
   "name": "python",
   "nbconvert_exporter": "python",
   "pygments_lexer": "ipython3",
   "version": "3.8.5"
  },
  "toc": {
   "base_numbering": 1,
   "nav_menu": {},
   "number_sections": true,
   "sideBar": true,
   "skip_h1_title": false,
   "title_cell": "Table of Contents",
   "title_sidebar": "Contents",
   "toc_cell": false,
   "toc_position": {},
   "toc_section_display": true,
   "toc_window_display": false
  },
  "varInspector": {
   "cols": {
    "lenName": 16,
    "lenType": 16,
    "lenVar": 40
   },
   "kernels_config": {
    "python": {
     "delete_cmd_postfix": "",
     "delete_cmd_prefix": "del ",
     "library": "var_list.py",
     "varRefreshCmd": "print(var_dic_list())"
    },
    "r": {
     "delete_cmd_postfix": ") ",
     "delete_cmd_prefix": "rm(",
     "library": "var_list.r",
     "varRefreshCmd": "cat(var_dic_list()) "
    }
   },
   "types_to_exclude": [
    "module",
    "function",
    "builtin_function_or_method",
    "instance",
    "_Feature"
   ],
   "window_display": false
  }
 },
 "nbformat": 4,
 "nbformat_minor": 5
}
